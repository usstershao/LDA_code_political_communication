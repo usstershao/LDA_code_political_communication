{
 "cells": [
  {
   "cell_type": "code",
   "execution_count": null,
   "metadata": {},
   "outputs": [],
   "source": [
    "#Downloaded from doug.specht.co.uk/twitter-research"
   ]
  },
  {
   "cell_type": "code",
   "execution_count": 11,
   "metadata": {},
   "outputs": [],
   "source": [
    "import sys\n",
    "import json\n",
    "import re\n",
    "import numpy as np\n",
    "from datetime import datetime\n",
    "import pandas as pd  \n",
    "\n",
    "tweetfile = 'AllAccounts.csv'\n",
    "\n",
    "tweets = pd.read_csv(tweetfile)"
   ]
  },
  {
   "cell_type": "markdown",
   "metadata": {},
   "source": [
    "Please verify that these are the headers to be used: ['from_user', 'created_at']. 'retweets' are taken from the 'text' header where 'RT @' is mentioned."
   ]
  },
  {
   "cell_type": "code",
   "execution_count": 12,
   "metadata": {},
   "outputs": [],
   "source": [
    "# 1. Export edges from Retweets\n",
    "\n",
    "tweets['retweets'] = tweets['text'].str.extract('RT @([a-zA-Z0-9]\\w{0,}):', expand=True)\n",
    "\n",
    "edges = tweets[['from_user', 'retweets','created_at']]\n",
    "edges.columns = ['Source', 'Target', 'Strength']"
   ]
  },
  {
   "cell_type": "code",
   "execution_count": 13,
   "metadata": {},
   "outputs": [],
   "source": [
    "strengthLevel = 3  # Network connection strength level: the number of times in total each of the tweeters responded to or mentioned the other.\n",
    "                   # If you have 1 as the level, then all tweeters who mentioned or replied to another at least once will be displayed. But if you have 5, only those who have mentioned or responded to a particular tweeter at least 5 times will be displayed, which means that only the strongest bonds are shown.\n",
    "\n",
    "edges2 = edges.groupby(['Source','Target'])['Strength'].count()\n",
    "edges2 = edges2.reset_index()\n",
    "edges2 = edges2[edges2['Strength'] >= strengthLevel]"
   ]
  },
  {
   "cell_type": "markdown",
   "metadata": {},
   "source": [
    "Please verify that these are the headers to be used: ['from_user','user_followers_count','user_friends_count']"
   ]
  },
  {
   "cell_type": "code",
   "execution_count": 14,
   "metadata": {},
   "outputs": [],
   "source": [
    "# Export nodes from the edges and add node attributes for both Sources and Targets.\n",
    "\n",
    "users = tweets[['from_user','user_followers_count','user_friends_count']]\n",
    "users = users.sort_values(['from_user','user_followers_count'], ascending=[True, False])\n",
    "users = users.drop_duplicates(['from_user'], keep='first') \n",
    "\n",
    "ids = edges2['Source'].append(edges2['Target']).to_frame()\n",
    "ids['Label'] = ids\n",
    "ids.columns = ['from_user', 'Label']\n",
    "ids = ids.drop_duplicates(['from_user'], keep='first') \n",
    "nodes = pd.merge(ids, users, on='from_user', how='left')"
   ]
  },
  {
   "cell_type": "code",
   "execution_count": 15,
   "metadata": {},
   "outputs": [
    {
     "name": "stdout",
     "output_type": "stream",
     "text": [
      "(102, 4)\n",
      "(136, 3)\n"
     ]
    }
   ],
   "source": [
    "print(nodes.shape)\n",
    "print(edges2.shape)"
   ]
  },
  {
   "cell_type": "code",
   "execution_count": 16,
   "metadata": {},
   "outputs": [],
   "source": [
    "# change column names for Kumu import (Run this when using Kumu)\n",
    "edges2.columns = ['Source','Target','Strength']\n",
    "nodes.columns = ['Id', 'Label', 'user_followers_count', 'user_friends_count']"
   ]
  },
  {
   "cell_type": "code",
   "execution_count": 17,
   "metadata": {},
   "outputs": [
    {
     "data": {
      "text/html": [
       "<div>\n",
       "<style scoped>\n",
       "    .dataframe tbody tr th:only-of-type {\n",
       "        vertical-align: middle;\n",
       "    }\n",
       "\n",
       "    .dataframe tbody tr th {\n",
       "        vertical-align: top;\n",
       "    }\n",
       "\n",
       "    .dataframe thead th {\n",
       "        text-align: right;\n",
       "    }\n",
       "</style>\n",
       "<table border=\"1\" class=\"dataframe\">\n",
       "  <thead>\n",
       "    <tr style=\"text-align: right;\">\n",
       "      <th></th>\n",
       "      <th>Source</th>\n",
       "      <th>Target</th>\n",
       "      <th>Strength</th>\n",
       "    </tr>\n",
       "  </thead>\n",
       "  <tbody>\n",
       "    <tr>\n",
       "      <th>2</th>\n",
       "      <td>AdolfoAriza1</td>\n",
       "      <td>MaipuAsamblea</td>\n",
       "      <td>4</td>\n",
       "    </tr>\n",
       "    <tr>\n",
       "      <th>4</th>\n",
       "      <td>AdrianaArach</td>\n",
       "      <td>ConSol_ONG</td>\n",
       "      <td>22</td>\n",
       "    </tr>\n",
       "    <tr>\n",
       "      <th>11</th>\n",
       "      <td>AguaHijosdel</td>\n",
       "      <td>ConSol_ONG</td>\n",
       "      <td>3</td>\n",
       "    </tr>\n",
       "    <tr>\n",
       "      <th>12</th>\n",
       "      <td>AguaHijosdel</td>\n",
       "      <td>MaipuAsamblea</td>\n",
       "      <td>4</td>\n",
       "    </tr>\n",
       "    <tr>\n",
       "      <th>14</th>\n",
       "      <td>AguaHijosdel</td>\n",
       "      <td>tunuyanxelagua</td>\n",
       "      <td>5</td>\n",
       "    </tr>\n",
       "    <tr>\n",
       "      <th>...</th>\n",
       "      <td>...</td>\n",
       "      <td>...</td>\n",
       "      <td>...</td>\n",
       "    </tr>\n",
       "    <tr>\n",
       "      <th>643</th>\n",
       "      <td>silzu04</td>\n",
       "      <td>MaipuAsamblea</td>\n",
       "      <td>4</td>\n",
       "    </tr>\n",
       "    <tr>\n",
       "      <th>652</th>\n",
       "      <td>tunuyanxelagua</td>\n",
       "      <td>MaipuAsamblea</td>\n",
       "      <td>3</td>\n",
       "    </tr>\n",
       "    <tr>\n",
       "      <th>657</th>\n",
       "      <td>uacdetrelew</td>\n",
       "      <td>MaipuAsamblea</td>\n",
       "      <td>4</td>\n",
       "    </tr>\n",
       "    <tr>\n",
       "      <th>669</th>\n",
       "      <td>zalcostado</td>\n",
       "      <td>MaipuAsamblea</td>\n",
       "      <td>3</td>\n",
       "    </tr>\n",
       "    <tr>\n",
       "      <th>670</th>\n",
       "      <td>zalcostado</td>\n",
       "      <td>tunuyanxelagua</td>\n",
       "      <td>6</td>\n",
       "    </tr>\n",
       "  </tbody>\n",
       "</table>\n",
       "<p>136 rows × 3 columns</p>\n",
       "</div>"
      ],
      "text/plain": [
       "             Source          Target  Strength\n",
       "2      AdolfoAriza1   MaipuAsamblea         4\n",
       "4      AdrianaArach      ConSol_ONG        22\n",
       "11     AguaHijosdel      ConSol_ONG         3\n",
       "12     AguaHijosdel   MaipuAsamblea         4\n",
       "14     AguaHijosdel  tunuyanxelagua         5\n",
       "..              ...             ...       ...\n",
       "643         silzu04   MaipuAsamblea         4\n",
       "652  tunuyanxelagua   MaipuAsamblea         3\n",
       "657     uacdetrelew   MaipuAsamblea         4\n",
       "669      zalcostado   MaipuAsamblea         3\n",
       "670      zalcostado  tunuyanxelagua         6\n",
       "\n",
       "[136 rows x 3 columns]"
      ]
     },
     "execution_count": 17,
     "metadata": {},
     "output_type": "execute_result"
    }
   ],
   "source": [
    "# print edges to check \n",
    "edges2"
   ]
  },
  {
   "cell_type": "code",
   "execution_count": 18,
   "metadata": {},
   "outputs": [
    {
     "data": {
      "text/html": [
       "<div>\n",
       "<style scoped>\n",
       "    .dataframe tbody tr th:only-of-type {\n",
       "        vertical-align: middle;\n",
       "    }\n",
       "\n",
       "    .dataframe tbody tr th {\n",
       "        vertical-align: top;\n",
       "    }\n",
       "\n",
       "    .dataframe thead th {\n",
       "        text-align: right;\n",
       "    }\n",
       "</style>\n",
       "<table border=\"1\" class=\"dataframe\">\n",
       "  <thead>\n",
       "    <tr style=\"text-align: right;\">\n",
       "      <th></th>\n",
       "      <th>Id</th>\n",
       "      <th>Label</th>\n",
       "      <th>user_followers_count</th>\n",
       "      <th>user_friends_count</th>\n",
       "    </tr>\n",
       "  </thead>\n",
       "  <tbody>\n",
       "    <tr>\n",
       "      <th>0</th>\n",
       "      <td>AdolfoAriza1</td>\n",
       "      <td>AdolfoAriza1</td>\n",
       "      <td>282.0</td>\n",
       "      <td>840</td>\n",
       "    </tr>\n",
       "    <tr>\n",
       "      <th>1</th>\n",
       "      <td>AdrianaArach</td>\n",
       "      <td>AdrianaArach</td>\n",
       "      <td>136.0</td>\n",
       "      <td>196</td>\n",
       "    </tr>\n",
       "    <tr>\n",
       "      <th>2</th>\n",
       "      <td>AguaHijosdel</td>\n",
       "      <td>AguaHijosdel</td>\n",
       "      <td>24.0</td>\n",
       "      <td>75</td>\n",
       "    </tr>\n",
       "    <tr>\n",
       "      <th>3</th>\n",
       "      <td>AnaMariaSabio2</td>\n",
       "      <td>AnaMariaSabio2</td>\n",
       "      <td>3.0</td>\n",
       "      <td>23</td>\n",
       "    </tr>\n",
       "    <tr>\n",
       "      <th>4</th>\n",
       "      <td>AsambleaporelAg</td>\n",
       "      <td>AsambleaporelAg</td>\n",
       "      <td>4926.0</td>\n",
       "      <td>1035</td>\n",
       "    </tr>\n",
       "    <tr>\n",
       "      <th>...</th>\n",
       "      <td>...</td>\n",
       "      <td>...</td>\n",
       "      <td>...</td>\n",
       "      <td>...</td>\n",
       "    </tr>\n",
       "    <tr>\n",
       "      <th>97</th>\n",
       "      <td>zalcostado</td>\n",
       "      <td>zalcostado</td>\n",
       "      <td>263.0</td>\n",
       "      <td>228</td>\n",
       "    </tr>\n",
       "    <tr>\n",
       "      <th>98</th>\n",
       "      <td>ConSol_ONG</td>\n",
       "      <td>ConSol_ONG</td>\n",
       "      <td>3484.0</td>\n",
       "      <td>756</td>\n",
       "    </tr>\n",
       "    <tr>\n",
       "      <th>99</th>\n",
       "      <td>Morriga91945886</td>\n",
       "      <td>Morriga91945886</td>\n",
       "      <td>81.0</td>\n",
       "      <td>192</td>\n",
       "    </tr>\n",
       "    <tr>\n",
       "      <th>100</th>\n",
       "      <td>ElbaLedesma</td>\n",
       "      <td>ElbaLedesma</td>\n",
       "      <td>307.0</td>\n",
       "      <td>997</td>\n",
       "    </tr>\n",
       "    <tr>\n",
       "      <th>101</th>\n",
       "      <td>marceloromano11</td>\n",
       "      <td>marceloromano11</td>\n",
       "      <td>1869.0</td>\n",
       "      <td>1705</td>\n",
       "    </tr>\n",
       "  </tbody>\n",
       "</table>\n",
       "<p>102 rows × 4 columns</p>\n",
       "</div>"
      ],
      "text/plain": [
       "                  Id            Label  user_followers_count  \\\n",
       "0       AdolfoAriza1     AdolfoAriza1                 282.0   \n",
       "1       AdrianaArach     AdrianaArach                 136.0   \n",
       "2       AguaHijosdel     AguaHijosdel                  24.0   \n",
       "3     AnaMariaSabio2   AnaMariaSabio2                   3.0   \n",
       "4    AsambleaporelAg  AsambleaporelAg                4926.0   \n",
       "..               ...              ...                   ...   \n",
       "97        zalcostado       zalcostado                 263.0   \n",
       "98        ConSol_ONG       ConSol_ONG                3484.0   \n",
       "99   Morriga91945886  Morriga91945886                  81.0   \n",
       "100      ElbaLedesma      ElbaLedesma                 307.0   \n",
       "101  marceloromano11  marceloromano11                1869.0   \n",
       "\n",
       "     user_friends_count  \n",
       "0                   840  \n",
       "1                   196  \n",
       "2                    75  \n",
       "3                    23  \n",
       "4                  1035  \n",
       "..                  ...  \n",
       "97                  228  \n",
       "98                  756  \n",
       "99                  192  \n",
       "100                 997  \n",
       "101                1705  \n",
       "\n",
       "[102 rows x 4 columns]"
      ]
     },
     "execution_count": 18,
     "metadata": {},
     "output_type": "execute_result"
    }
   ],
   "source": [
    "# print nodes to check\n",
    "nodes"
   ]
  },
  {
   "cell_type": "code",
   "execution_count": 19,
   "metadata": {},
   "outputs": [],
   "source": [
    "# Export nodes and edges to csv files\n",
    "nodes.to_csv('nodes_retweet.csv', encoding='utf-8', index=False)\n",
    "edges.to_csv('edges_retweet.csv', encoding='utf-8', index=False)"
   ]
  },
  {
   "cell_type": "code",
   "execution_count": null,
   "metadata": {},
   "outputs": [],
   "source": []
  },
  {
   "cell_type": "code",
   "execution_count": null,
   "metadata": {},
   "outputs": [],
   "source": []
  }
 ],
 "metadata": {
  "kernelspec": {
   "display_name": "Python 3",
   "language": "python",
   "name": "python3"
  },
  "language_info": {
   "codemirror_mode": {
    "name": "ipython",
    "version": 3
   },
   "file_extension": ".py",
   "mimetype": "text/x-python",
   "name": "python",
   "nbconvert_exporter": "python",
   "pygments_lexer": "ipython3",
   "version": "3.7.6"
  }
 },
 "nbformat": 4,
 "nbformat_minor": 2
}
